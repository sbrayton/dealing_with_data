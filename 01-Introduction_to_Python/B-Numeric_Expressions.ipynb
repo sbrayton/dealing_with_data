{
 "cells": [
  {
   "cell_type": "markdown",
   "metadata": {},
   "source": [
    "# Expressions, Data Types, and Variables\n",
    "\n",
    "\n"
   ]
  },
  {
   "cell_type": "markdown",
   "metadata": {
    "heading_collapsed": true
   },
   "source": [
    "## Math Expressions for Numeric Types\n",
    "\n"
   ]
  },
  {
   "cell_type": "markdown",
   "metadata": {
    "hidden": true
   },
   "source": [
    "We will start first by dealing with numbers and see how we can do various math and logical operations with Python. Here are a few operators that we will be using:\n",
    "\n",
    "* `+` addition, add two numbers\n",
    "* `-` subtraction and negation\n",
    "* `*` multiplication, multiply two numbers\n",
    "* `/` divide first  with the outcome being decimal outcome\n",
    "* `//` division with the outcome being integer (return only the integer part of the outcome)\n",
    "* `%` modulo/division remainder, what is the remainder when the first number is divided by the second?\n",
    "* `**` power, raise the first number into a power given by the second number"
   ]
  },
  {
   "cell_type": "code",
   "execution_count": 1,
   "metadata": {
    "hidden": true
   },
   "outputs": [
    {
     "name": "stdout",
     "output_type": "stream",
     "text": [
      "addition:\n",
      "2\n",
      "2.5\n"
     ]
    }
   ],
   "source": [
    "print(\"addition:\")\n",
    "print(1 + 1)\n",
    "print(1.5 + 1)"
   ]
  },
  {
   "cell_type": "code",
   "execution_count": 2,
   "metadata": {
    "hidden": true
   },
   "outputs": [
    {
     "name": "stdout",
     "output_type": "stream",
     "text": [
      "subtraction:\n",
      "0\n",
      "0.0\n"
     ]
    }
   ],
   "source": [
    "print(\"subtraction:\")\n",
    "print(1 - 1)\n",
    "print(1 - 1.0)"
   ]
  },
  {
   "cell_type": "code",
   "execution_count": 3,
   "metadata": {
    "hidden": true
   },
   "outputs": [
    {
     "name": "stdout",
     "output_type": "stream",
     "text": [
      "negation:\n",
      "-5\n"
     ]
    }
   ],
   "source": [
    "print(\"negation:\")\n",
    "print(-5)"
   ]
  },
  {
   "cell_type": "code",
   "execution_count": 4,
   "metadata": {
    "hidden": true
   },
   "outputs": [
    {
     "name": "stdout",
     "output_type": "stream",
     "text": [
      "multiplication:\n",
      "9\n",
      "9.0\n"
     ]
    }
   ],
   "source": [
    "print(\"multiplication:\")\n",
    "print(3 * 3)  # integer\n",
    "print(3 * 3.0)  # floating point"
   ]
  },
  {
   "cell_type": "code",
   "execution_count": 5,
   "metadata": {
    "hidden": true
   },
   "outputs": [
    {
     "name": "stdout",
     "output_type": "stream",
     "text": [
      "division:\n",
      "2\n",
      "2\n"
     ]
    }
   ],
   "source": [
    "print(\"division:\")\n",
    "print(4 / 2)\n",
    "print(5 / 2)"
   ]
  },
  {
   "cell_type": "code",
   "execution_count": 6,
   "metadata": {
    "hidden": true
   },
   "outputs": [
    {
     "name": "stdout",
     "output_type": "stream",
     "text": [
      "integer division:\n",
      "2\n",
      "2\n"
     ]
    }
   ],
   "source": [
    "print(\"integer division:\")\n",
    "print(4 // 2)\n",
    "print(5 // 2)"
   ]
  },
  {
   "cell_type": "code",
   "execution_count": 7,
   "metadata": {
    "hidden": true
   },
   "outputs": [
    {
     "name": "stdout",
     "output_type": "stream",
     "text": [
      "modulo:\n",
      "0\n",
      "1\n",
      "1.5\n",
      "3\n",
      "1\n"
     ]
    }
   ],
   "source": [
    "print(\"modulo:\")  # modulo is a fancy term for remainder of a division\n",
    "print(4 % 2)\n",
    "print(5 % 2)\n",
    "print(5.5 % 2)\n",
    "print(75 % 4)\n",
    "print(10 % 3)"
   ]
  },
  {
   "cell_type": "code",
   "execution_count": 10,
   "metadata": {
    "hidden": true
   },
   "outputs": [
    {
     "name": "stdout",
     "output_type": "stream",
     "text": [
      "power:\n",
      "1000\n",
      "32\n"
     ]
    }
   ],
   "source": [
    "print(\"power:\")\n",
    "print(10**3)\n",
    "print(2**5)"
   ]
  },
  {
   "cell_type": "markdown",
   "metadata": {
    "heading_collapsed": true
   },
   "source": [
    "## Exercise 1"
   ]
  },
  {
   "cell_type": "markdown",
   "metadata": {
    "hidden": true
   },
   "source": [
    "Assume that you go to a restaurant, and you order $50 worth of food. Then you need to add the NY Sales Tax (8.875%) and add a tip (say, 20%). Write down the calculation that will print the total cost of the food."
   ]
  },
  {
   "cell_type": "code",
   "execution_count": 17,
   "metadata": {
    "hidden": true
   },
   "outputs": [
    {
     "name": "stdout",
     "output_type": "stream",
     "text": [
      "64.4375\n"
     ]
    }
   ],
   "source": [
    "# tip calculated on the pre-tax amount\n",
    "print(50+(50*.08875)+(50*.20))"
   ]
  },
  {
   "cell_type": "code",
   "execution_count": 18,
   "metadata": {
    "hidden": true
   },
   "outputs": [
    {
     "name": "stdout",
     "output_type": "stream",
     "text": [
      "65.325\n"
     ]
    }
   ],
   "source": [
    "# tip calculated on the after-tax amount\n",
    "print((50+(50*.08875)) + ((50+(50*.08875))*(.20)))"
   ]
  },
  {
   "cell_type": "markdown",
   "metadata": {
    "heading_collapsed": true,
    "hidden": true,
    "solution2": "hidden",
    "solution2_first": true
   },
   "source": [
    "### Solution"
   ]
  },
  {
   "cell_type": "code",
   "execution_count": 15,
   "metadata": {
    "hidden": true,
    "solution2": "hidden"
   },
   "outputs": [
    {
     "name": "stdout",
     "output_type": "stream",
     "text": [
      "The total cost of the meal, with tip on the pre-tax amount is:\n",
      "64.4375\n"
     ]
    }
   ],
   "source": [
    "print(\"The total cost of the meal, with tip on the pre-tax amount is:\")\n",
    "print(50 + 50 * 8.875 / 100 + 50 * 20 / 100)"
   ]
  },
  {
   "cell_type": "code",
   "execution_count": 19,
   "metadata": {
    "hidden": true,
    "solution2": "hidden"
   },
   "outputs": [
    {
     "name": "stdout",
     "output_type": "stream",
     "text": [
      "The total cost of the meal, with tip on the post-tax amount is:\n",
      "65.325\n"
     ]
    }
   ],
   "source": [
    "print(\"The total cost of the meal, with tip on the post-tax amount is:\")\n",
    "print(50 + 50 * 8.875 / 100 + (50 + 50 * 8.875 / 100) * 20 / 100)"
   ]
  },
  {
   "cell_type": "markdown",
   "metadata": {
    "heading_collapsed": true
   },
   "source": [
    "## Exercise 2"
   ]
  },
  {
   "cell_type": "markdown",
   "metadata": {
    "hidden": true
   },
   "source": [
    "\n",
    "You have a stock that closed at \\$550 on Monday, and then closed at \\$560 on Tuesday. Calculate its daily return: the daily return is defined as the difference in the closing prices, divided by the closing price the day before."
   ]
  },
  {
   "cell_type": "code",
   "execution_count": 28,
   "metadata": {
    "hidden": true
   },
   "outputs": [
    {
     "name": "stdout",
     "output_type": "stream",
     "text": [
      "0\n",
      "1\n"
     ]
    }
   ],
   "source": [
    "# your code here\n",
    "B= 550\n",
    "E = 560\n",
    "dr = ((E-B)/B)\n",
    "print(dr)\n",
    "#get the percent\n",
    "perc = (100*(E-B)/B)\n",
    "print(perc)"
   ]
  },
  {
   "cell_type": "code",
   "execution_count": null,
   "metadata": {},
   "outputs": [],
   "source": []
  },
  {
   "cell_type": "markdown",
   "metadata": {
    "heading_collapsed": true,
    "hidden": true,
    "solution2": "hidden",
    "solution2_first": true
   },
   "source": [
    "### Solution"
   ]
  },
  {
   "cell_type": "code",
   "execution_count": 22,
   "metadata": {
    "hidden": true,
    "solution2": "hidden"
   },
   "outputs": [
    {
     "name": "stdout",
     "output_type": "stream",
     "text": [
      "The daily return is:\n",
      "0\n"
     ]
    }
   ],
   "source": [
    "print(\"The daily return is:\")\n",
    "print((560 - 550) / 550)"
   ]
  },
  {
   "cell_type": "code",
   "execution_count": 26,
   "metadata": {
    "hidden": true,
    "solution2": "hidden"
   },
   "outputs": [
    {
     "name": "stdout",
     "output_type": "stream",
     "text": [
      "The daily return is:\n",
      "1\n"
     ]
    }
   ],
   "source": [
    "# If we want to show percentages,\n",
    "# We can modify our code and\n",
    "# add a multiplication with 100 in front:\n",
    "print(\"The daily return is:\")\n",
    "print(100 * (560 - 550) / 550)"
   ]
  },
  {
   "cell_type": "markdown",
   "metadata": {
    "heading_collapsed": true
   },
   "source": [
    "## Exercise 3\n"
   ]
  },
  {
   "cell_type": "markdown",
   "metadata": {
    "hidden": true
   },
   "source": [
    "\n",
    "Assume that someone's height is 5 ft and 9 inches. Conver that to centimeters. Remember that one foot is 30.48 centimeters, and one inch is 2.54 centimeters."
   ]
  },
  {
   "cell_type": "code",
   "execution_count": 29,
   "metadata": {
    "hidden": true
   },
   "outputs": [
    {
     "name": "stdout",
     "output_type": "stream",
     "text": [
      "175.26\n"
     ]
    }
   ],
   "source": [
    "# your code here\n",
    "ft=5\n",
    "inch=9\n",
    "print(ft*30.48+9*2.54)"
   ]
  },
  {
   "cell_type": "markdown",
   "metadata": {
    "heading_collapsed": true,
    "hidden": true,
    "solution2": "hidden",
    "solution2_first": true
   },
   "source": [
    "### Solution"
   ]
  },
  {
   "cell_type": "code",
   "execution_count": 30,
   "metadata": {
    "hidden": true,
    "solution2": "hidden"
   },
   "outputs": [
    {
     "name": "stdout",
     "output_type": "stream",
     "text": [
      "The height in centimeters is:\n",
      "175.26\n"
     ]
    }
   ],
   "source": [
    "print(\"The height in centimeters is:\")\n",
    "print(5 * 30.48 + 9 * 2.54)"
   ]
  },
  {
   "cell_type": "markdown",
   "metadata": {
    "heading_collapsed": true
   },
   "source": [
    "## Exercise 4\n"
   ]
  },
  {
   "cell_type": "markdown",
   "metadata": {
    "hidden": true
   },
   "source": [
    "\n",
    "Write a Python program to compute the future value of a deposit with a a principal amount of \\$10,000, rate of interest 3%, and after 5 years. Remember that the value is: $ Principal * (1+interest)^{years}$ and you will need to use the power operator  (**) for this calculation."
   ]
  },
  {
   "cell_type": "code",
   "execution_count": 47,
   "metadata": {
    "hidden": true
   },
   "outputs": [
    {
     "data": {
      "text/plain": [
       "11592.740743"
      ]
     },
     "execution_count": 47,
     "metadata": {},
     "output_type": "execute_result"
    }
   ],
   "source": [
    "# your code here\n",
    "10000*(1+3./100)**5\n"
   ]
  },
  {
   "cell_type": "markdown",
   "metadata": {
    "heading_collapsed": true,
    "hidden": true,
    "solution2": "hidden",
    "solution2_first": true
   },
   "source": [
    "### Solution"
   ]
  },
  {
   "cell_type": "code",
   "execution_count": 44,
   "metadata": {
    "hidden": true,
    "solution2": "hidden"
   },
   "outputs": [
    {
     "name": "stdout",
     "output_type": "stream",
     "text": [
      "The value of the deposit will be:\n",
      "11592.740743\n"
     ]
    }
   ],
   "source": [
    "print(\"The value of the deposit will be:\")\n",
    "print(10000 * (1 + 3./100)**5)"
   ]
  },
  {
   "cell_type": "markdown",
   "metadata": {
    "heading_collapsed": true
   },
   "source": [
    "## Exercise 5"
   ]
  },
  {
   "cell_type": "markdown",
   "metadata": {
    "hidden": true
   },
   "source": [
    "Assume that someone's height is 180 centimeters. Convert that height into feet and inches. Remember that one foot is 30.48 centimeters, and one inch is 2.54 centimeters. You will need to use the modulo operator (%) for this conversion. Also use the `int(...)` function to get the integer part of a division. Optionally, you can also use the `round(...)` function to get the rounded integer number from a decimal."
   ]
  },
  {
   "cell_type": "code",
   "execution_count": 52,
   "metadata": {
    "hidden": true
   },
   "outputs": [
    {
     "name": "stdout",
     "output_type": "stream",
     "text": [
      "5.0\n",
      "10.8661417323\n"
     ]
    }
   ],
   "source": [
    "# your code here\n",
    "\n",
    "print(180//30.58)\n",
    "\n",
    "\n",
    "print(180% 30.48/2.54)"
   ]
  },
  {
   "cell_type": "markdown",
   "metadata": {
    "heading_collapsed": true,
    "hidden": true,
    "solution2": "hidden",
    "solution2_first": true
   },
   "source": [
    "### Solution"
   ]
  },
  {
   "cell_type": "code",
   "execution_count": 49,
   "metadata": {
    "hidden": true,
    "solution2": "hidden"
   },
   "outputs": [
    {
     "name": "stdout",
     "output_type": "stream",
     "text": [
      "180 cm is\n",
      "5.0\n",
      "feet and \n",
      "10.8661417323\n",
      "inches\n"
     ]
    }
   ],
   "source": [
    "print(\"180 cm is\")\n",
    "print(180 // 30.48)\n",
    "print(\"feet and \")\n",
    "print(180 % 30.48 / 2.54)\n",
    "print(\"inches\")"
   ]
  },
  {
   "cell_type": "code",
   "execution_count": 53,
   "metadata": {
    "hidden": true,
    "solution2": "hidden"
   },
   "outputs": [
    {
     "name": "stdout",
     "output_type": "stream",
     "text": [
      "('180 cm is', 5.0, 'feet and ', 10.866141732283463, 'inches')\n"
     ]
    }
   ],
   "source": [
    "# let’s see how we can print the message in one line\n",
    "print(\"180 cm is\", 180 // 30.48, \"feet and \", 180 % 30.48 / 2.54, \"inches\")"
   ]
  },
  {
   "cell_type": "code",
   "execution_count": 54,
   "metadata": {
    "hidden": true,
    "solution2": "hidden"
   },
   "outputs": [
    {
     "name": "stdout",
     "output_type": "stream",
     "text": [
      "('180 cm is', 5, 'feet and', 10, 'inches')\n"
     ]
    }
   ],
   "source": [
    "# Let's use int() function to make the output look a bit nicer.\n",
    "print(\"180 cm is\", int(180 / 30.48), \"feet and\", int(180 % 30.48 / 2.54), \"inches\")"
   ]
  },
  {
   "cell_type": "code",
   "execution_count": 55,
   "metadata": {
    "hidden": true,
    "solution2": "hidden"
   },
   "outputs": [
    {
     "name": "stdout",
     "output_type": "stream",
     "text": [
      "('180 cm is', 5, 'feet and', 10.9, 'inches')\n"
     ]
    }
   ],
   "source": [
    "# Let's use the functions int() and round()\n",
    "print(\"180 cm is\", int(180 / 30.48), \"feet and\", round(180 % 30.48 / 2.54, 1), \"inches\")"
   ]
  },
  {
   "cell_type": "code",
   "execution_count": null,
   "metadata": {},
   "outputs": [],
   "source": []
  }
 ],
 "metadata": {
  "kernelspec": {
   "display_name": "Python 2",
   "language": "python",
   "name": "python2"
  },
  "language_info": {
   "codemirror_mode": {
    "name": "ipython",
    "version": 2
   },
   "file_extension": ".py",
   "mimetype": "text/x-python",
   "name": "python",
   "nbconvert_exporter": "python",
   "pygments_lexer": "ipython2",
   "version": "2.7.14"
  }
 },
 "nbformat": 4,
 "nbformat_minor": 1
}
